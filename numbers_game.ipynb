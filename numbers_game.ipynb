{
 "cells": [
  {
   "cell_type": "code",
   "execution_count": 3,
   "metadata": {},
   "outputs": [
    {
     "name": "stdout",
     "output_type": "stream",
     "text": [
      "Welcome to high-low game! \n",
      "I am thinking of a number between 1 and 100\n",
      "Lets play!\n",
      "Too high, try again!\n",
      "Too high, try again!\n"
     ]
    }
   ],
   "source": [
    "import random\n",
    "numbers= random.randint(1, 100)\n",
    "print(\"Welcome to high-low game! \")\n",
    "print(\"I am thinking of a number between 1 and 100\")\n",
    "print(\"Lets play!\")\n",
    "while True:\n",
    "    guess = int(input(\"Enter your guess: \"))\n",
    "\n",
    "    if guess == numbers:\n",
    "        print(\"Congratulations, You won!\")\n",
    "        break  # Correct placement inside the loop to exit when the guess is right\n",
    "    elif guess < numbers:33\n",
    "    \n",
    "        print(\"Too low, try again!\")\n",
    "    else:\n",
    "        print(\"Too high, try again!\")"
   ]
  }
 ],
 "metadata": {
  "kernelspec": {
   "display_name": "Python 3",
   "language": "python",
   "name": "python3"
  },
  "language_info": {
   "codemirror_mode": {
    "name": "ipython",
    "version": 3
   },
   "file_extension": ".py",
   "mimetype": "text/x-python",
   "name": "python",
   "nbconvert_exporter": "python",
   "pygments_lexer": "ipython3",
   "version": "3.12.4"
  }
 },
 "nbformat": 4,
 "nbformat_minor": 2
}
